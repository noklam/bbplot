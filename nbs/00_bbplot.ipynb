{
 "cells": [
  {
   "cell_type": "code",
   "execution_count": null,
   "metadata": {},
   "outputs": [],
   "source": [
    "# export\n",
    "\n",
    "# plotnine is an implementation of ggplot\n",
    "import altair as alt\n",
    "from plotnine import theme, element_text, element_blank, element_line, element_rect\n",
    "\n",
    "\n",
    "def bbc_style():\n",
    "    font = \"Helvetica\"\n",
    "    bbc_theme = theme(\n",
    "        plot_title=element_text(family=font,\n",
    "                                size=22,\n",
    "                                weight=\"bold\",\n",
    "                                color=\"#222222\",\n",
    "                                ha='center',\n",
    "                                va='top'),\n",
    "        #       plot_subtitle=element_text(family=font,\n",
    "        #                                  size=22, plot_margin=(9, 0, 9, 0)), plot_caption=element_blank(),\n",
    "        legend_position=\"top\",\n",
    "        legend_title_align=0,\n",
    "        legend_background=element_blank(),\n",
    "        legend_title=element_blank(),\n",
    "        legend_key=element_blank(),\n",
    "        legend_text=element_text(family=font, size=14, color=\"#222222\"),\n",
    "        axis_title=element_blank(),\n",
    "        axis_text=element_text(family=font, size=14, color=\"#222222\"),\n",
    "        axis_text_x=element_text(margin={\n",
    "            't': 5,\n",
    "            'b': 10\n",
    "        }),\n",
    "        axis_ticks=element_blank(),\n",
    "        axis_line=element_blank(),\n",
    "        panel_grid_minor=element_blank(),\n",
    "        panel_grid_major_y=element_line(color=\"#cbcbcb\"),\n",
    "        panel_grid_major_x=element_blank(),\n",
    "        panel_background=element_blank(),\n",
    "        strip_background=element_rect(fill=\"white\"),\n",
    "        strip_text=element_text(size=22, hjust=0))\n",
    "    return bbc_theme\n",
    "\n",
    "def bbc_style_altair():\n",
    "    pass\n",
    "    "
   ]
  },
  {
   "cell_type": "code",
   "execution_count": null,
   "metadata": {},
   "outputs": [],
   "source": [
    "# default_exp bbplot"
   ]
  },
  {
   "cell_type": "markdown",
   "metadata": {},
   "source": [
    "# [WIP] - bbc_plot\n",
    "\n",
    "> This library reproduce the bbc_plot style in R. It also includes a comparison of `plotnine` and `altair` with syntax side by side for re-creating the BBC plots."
   ]
  },
  {
   "cell_type": "code",
   "execution_count": null,
   "metadata": {},
   "outputs": [],
   "source": [
    "#hide\n",
    "from nbdev.showdoc import *"
   ]
  }
 ],
 "metadata": {
  "kernelspec": {
   "display_name": "Python 3",
   "language": "python",
   "name": "python3"
  }
 },
 "nbformat": 4,
 "nbformat_minor": 2
}
