{
 "cells": [
  {
   "cell_type": "code",
   "execution_count": null,
   "metadata": {},
   "outputs": [],
   "source": [
    "#hide\n",
    "from bbplot import *"
   ]
  },
  {
   "cell_type": "markdown",
   "metadata": {},
   "source": [
    "# bbplot\n",
    "\n",
    "> Creating visualization with style with altair and plotnine."
   ]
  },
  {
   "cell_type": "markdown",
   "metadata": {},
   "source": [
    "This project try to reproduce the visualization in the [BBC R cookbook] an(https://bbc.github.io/rcookbook/)  with Python. You can use the theme come with it to make your chart looks nicer.\n",
    "\n"
   ]
  },
  {
   "cell_type": "markdown",
   "metadata": {},
   "source": [
    "`pip install bbplot`"
   ]
  },
  {
   "cell_type": "markdown",
   "metadata": {},
   "source": [
    "## How to use\n",
    "Pick one library that you like.\n",
    "1. altair (if you have never use R before, I recommend altair as it can create interactive chart easily)\n",
    "2. plotnine (similar to ggplot2 in R)"
   ]
  },
  {
   "cell_type": "markdown",
   "metadata": {},
   "source": [
    "## plotnine"
   ]
  },
  {
   "cell_type": "markdown",
   "metadata": {},
   "source": [
    "## altair"
   ]
  },
  {
   "cell_type": "code",
   "execution_count": null,
   "metadata": {},
   "outputs": [
    {
     "data": {
      "text/plain": [
       "ThemeRegistry.enable('custom')"
      ]
     },
     "execution_count": null,
     "metadata": {},
     "output_type": "execute_result"
    }
   ],
   "source": [
    "import altair as alt\n",
    "from bbplot.custom_theme import bbc_theme\n",
    "alt.themes.register(\"custom\", bbc_theme)\n",
    "alt.themes.enable(\"custom\")"
   ]
  },
  {
   "cell_type": "markdown",
   "metadata": {},
   "source": [
    "Add this 3 extra lines in your plot, it will style your charts automatically."
   ]
  }
 ],
 "metadata": {
  "kernelspec": {
   "display_name": "Python 3",
   "language": "python",
   "name": "python3"
  }
 },
 "nbformat": 4,
 "nbformat_minor": 4
}
