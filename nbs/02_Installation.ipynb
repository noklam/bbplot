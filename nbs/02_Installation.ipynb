{
 "cells": [
  {
   "cell_type": "code",
   "execution_count": null,
   "metadata": {},
   "outputs": [],
   "source": [
    "# default_exp core"
   ]
  },
  {
   "cell_type": "markdown",
   "metadata": {},
   "source": [
    "# [WIP] - bbc_plot\n",
    "\n",
    "> This library reproduce the bbc_plot style in R. It also includes a comparison of `plotnine` and `altair` with syntax side by side for re-creating the BBC plots."
   ]
  },
  {
   "cell_type": "code",
   "execution_count": null,
   "metadata": {},
   "outputs": [],
   "source": [
    "#hide\n",
    "from nbdev.showdoc import *"
   ]
  },
  {
   "cell_type": "markdown",
   "metadata": {},
   "source": [
    "# Installation"
   ]
  },
  {
   "cell_type": "markdown",
   "metadata": {},
   "source": [
    "To get `bbc_plot` work fully, you need to have __Helvetica__ installed as a TrueType font for matplotlib. Don't worry if you don't understand what is it.\n",
    "\n",
    "Just follow this link http://fowlerlab.org/2019/01/03/changing-the-sans-serif-font-to-helvetica/ to set it up properly. If you know a better way to do that, please let me know! I have no idea why matplotlib only support a limited amount of fonts.\n",
    "        \n",
    "    \n",
    "I have put the Helvetica.ttf here https://github.com/noklam/bbc_plot/bbc_plotfont/helvetica.ttf"
   ]
  }
 ],
 "metadata": {
  "kernelspec": {
   "display_name": "Python 3",
   "language": "python",
   "name": "python3"
  }
 },
 "nbformat": 4,
 "nbformat_minor": 2
}
