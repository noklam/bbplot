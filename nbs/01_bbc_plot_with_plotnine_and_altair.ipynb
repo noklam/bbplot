{
 "cells": [
  {
   "cell_type": "markdown",
   "metadata": {},
   "source": [
    "# \"Recreating the BBC style graphic in Python - `plotnine` and `altair`\"\n",
    "> Want to make awesome chart with bbc style? This is an attempt to reproduce https://bbc.github.io/rcookbook/ in python.\n",
    "\n",
    "\n",
    "- toc: true \n",
    "- badges: true\n",
    "- comments: true\n",
    "- categories: [python]\n",
    "- hide: trues"
   ]
  },
  {
   "cell_type": "markdown",
   "metadata": {},
   "source": [
    "# Todo\n",
    "- [ ] Missing Subtitle (plotnine)\n",
    "- [ ] Missing Style"
   ]
  },
  {
   "cell_type": "markdown",
   "metadata": {},
   "source": [
    "`plotnine` is an implementation of `ggplot` in python, while `altair` is base on `vega-lite`. Pick one that sparks joy."
   ]
  },
  {
   "cell_type": "markdown",
   "metadata": {},
   "source": [
    "# Difference between plotnine and ggplot\n",
    "90% of them are the same, except that in python you have to wrap column names in `''`, otherwise it will be treated as variable and caused error. Most of the time you just need to wrap a `''` or replaced with `_` depends on the function.\n",
    "\n",
    "Some of the features are missing in plotnine, for example, subtitle is not possible."
   ]
  },
  {
   "cell_type": "markdown",
   "metadata": {},
   "source": [
    "I tried to produce the same chart with `plotnine` and `altair`, and hopefully you will see their difference. `plotnine` covers 99% of `ggplot2`, so if you are coming from R, just go ahead with `plotnine`! `altair` is another interesting visualization library that base on vega-lite, therefore it can be integrated with website easily. In addition, it can also produce interactive chart with very simple function, which is a big plus!  "
   ]
  },
  {
   "cell_type": "markdown",
   "metadata": {},
   "source": [
    "# Setup"
   ]
  },
  {
   "cell_type": "code",
   "execution_count": null,
   "metadata": {},
   "outputs": [
    {
     "ename": "ModuleNotFoundError",
     "evalue": "No module named 'bbc_plot'",
     "output_type": "error",
     "traceback": [
      "\u001b[1;31m----------------------------------------\u001b[0m",
      "\u001b[1;31mModuleNotFoundError\u001b[0mTraceback (most recent call last)",
      "\u001b[1;32m<ipython-input-1-f7c2a2809e0b>\u001b[0m in \u001b[0;36m<module>\u001b[1;34m\u001b[0m\n\u001b[0;32m     14\u001b[0m \u001b[1;32mimport\u001b[0m \u001b[0mplotnine\u001b[0m\u001b[1;33m\u001b[0m\u001b[1;33m\u001b[0m\u001b[0m\n\u001b[0;32m     15\u001b[0m \u001b[1;33m\u001b[0m\u001b[0m\n\u001b[1;32m---> 16\u001b[1;33m \u001b[1;32mfrom\u001b[0m \u001b[0mbbc_plot\u001b[0m\u001b[1;33m.\u001b[0m\u001b[0mbbc_plot\u001b[0m \u001b[1;32mimport\u001b[0m \u001b[0mbbc_style\u001b[0m\u001b[1;33m\u001b[0m\u001b[1;33m\u001b[0m\u001b[0m\n\u001b[0m\u001b[0;32m     17\u001b[0m \u001b[0mget_ipython\u001b[0m\u001b[1;33m(\u001b[0m\u001b[1;33m)\u001b[0m\u001b[1;33m.\u001b[0m\u001b[0mrun_line_magic\u001b[0m\u001b[1;33m(\u001b[0m\u001b[1;34m'matplotlib'\u001b[0m\u001b[1;33m,\u001b[0m \u001b[1;34m'inline'\u001b[0m\u001b[1;33m)\u001b[0m\u001b[1;33m\u001b[0m\u001b[1;33m\u001b[0m\u001b[0m\n\u001b[0;32m     18\u001b[0m \u001b[0mget_ipython\u001b[0m\u001b[1;33m(\u001b[0m\u001b[1;33m)\u001b[0m\u001b[1;33m.\u001b[0m\u001b[0mrun_line_magic\u001b[0m\u001b[1;33m(\u001b[0m\u001b[1;34m'config'\u001b[0m\u001b[1;33m,\u001b[0m \u001b[1;34m\"InlineBackend.figure_format = 'retina'\"\u001b[0m\u001b[1;33m)\u001b[0m\u001b[1;33m\u001b[0m\u001b[1;33m\u001b[0m\u001b[0m\n",
      "\u001b[1;31mModuleNotFoundError\u001b[0m: No module named 'bbc_plot'"
     ]
    }
   ],
   "source": [
    "# collapse-hide\n",
    "# !pip install plotnine[all]\n",
    "# !pip install altair\n",
    "# !pip install gapminder\n",
    "\n",
    "\n",
    "from gapminder import gapminder\n",
    "from plotnine.data import mtcars\n",
    "from plotnine import *\n",
    "from plotnine import ggplot, geom_point, aes, stat_smooth, facet_wrap, geom_line\n",
    "from plotnine import ggplot  # https://plotnine.readthedocs.io/en/stable/\n",
    "import altair as alt\n",
    "import pandas as pd\n",
    "import plotnine\n",
    "\n",
    "from bbc_plot.bbc_plot import bbc_style\n",
    "%matplotlib inline\n",
    "%config InlineBackend.figure_format = 'retina'\n",
    "alt.renderers.enable('html')"
   ]
  },
  {
   "cell_type": "code",
   "execution_count": null,
   "metadata": {},
   "outputs": [],
   "source": [
    "print(f'altair version: {alt.__version__}')\n",
    "print(f'plotnine version: {plotnine.__version__}')\n",
    "print(f'pandas version: {pd.__version__}')"
   ]
  },
  {
   "cell_type": "markdown",
   "metadata": {},
   "source": [
    "# Make a Line Chart\n"
   ]
  },
  {
   "cell_type": "markdown",
   "metadata": {},
   "source": [
    "```r\n",
    "# ggplot\n",
    "line_df <- gapminder %>%\n",
    "  filter(country == \"Malawi\") \n",
    "\n",
    "#Make plot\n",
    "line <- ggplot(line_df, aes(x = year, y = lifeExp)) +\n",
    "  geom_line(colour = \"#1380A1\", size = 1) +\n",
    "  geom_hline(yintercept = 0, size = 1, colour=\"#333333\") +\n",
    "  bbc_style() +\n",
    "  labs(title=\"Living longer\",\n",
    "       subtitle = \"Life expectancy in Malawi 1952-2007\")\n",
    "```"
   ]
  },
  {
   "cell_type": "code",
   "execution_count": null,
   "metadata": {},
   "outputs": [],
   "source": [
    "#hide\n",
    "line_df = gapminder.query(\" country == 'Malawi' \")"
   ]
  },
  {
   "cell_type": "code",
   "execution_count": null,
   "metadata": {},
   "outputs": [],
   "source": [
    "(ggplot(line_df, aes(x='year', y='lifeExp')) +\n",
    " geom_line(colour='#1380A1', size=1) +\n",
    " geom_hline(yintercept = 0, size = 1, colour='#333333') +\n",
    " labs(title='Living longer', \n",
    "     subtitle = 'Life expectancy in Malawi 1952-2007')\n",
    " )"
   ]
  },
  {
   "cell_type": "code",
   "execution_count": null,
   "metadata": {},
   "outputs": [],
   "source": [
    "## altair\n",
    "line = (alt.Chart(line_df).mark_line().encode(\n",
    "x='year',\n",
    "y='lifeExp')\n",
    ".properties(title={'text': 'Living Longer',\n",
    "                   'subtitle': 'Life expectancy in Malawi 1952-2007'})\n",
    ") \n",
    "\n",
    "# hline\n",
    "overlay = overlay = pd.DataFrame({'y': [0]})\n",
    "hline = alt.Chart(overlay).mark_rule(color='#333333', strokeWidth=3).encode(y='y:Q')\n",
    "\n",
    "line + hline"
   ]
  },
  {
   "cell_type": "markdown",
   "metadata": {},
   "source": [
    "# The BBC style\n",
    "```R\n",
    "function () \n",
    "{\n",
    "    font <- \"Helvetica\"\n",
    "    ggplot2::theme(plot.title = ggplot2::element_text(family = font, \n",
    "    size = 28, face = \"bold\", color = \"#222222\"), plot.subtitle = ggplot2::element_text(family = font, \n",
    "    size = 22, margin = ggplot2::margin(9, 0, 9, 0)), plot.caption = ggplot2::element_blank(), \n",
    "    legend.position = \"top\", legend.text.align = 0, legend.background = ggplot2::element_blank(), \n",
    "    legend.title = ggplot2::element_blank(), legend.key = ggplot2::element_blank(), \n",
    "    legend.text = ggplot2::element_text(family = font, size = 18, \n",
    "        color = \"#222222\"), axis.title = ggplot2::element_blank(), \n",
    "    axis.text = ggplot2::element_text(family = font, size = 18, \n",
    "        color = \"#222222\"), axis.text.x = ggplot2::element_text(margin = ggplot2::margin(5, \n",
    "        b = 10)), axis.ticks = ggplot2::element_blank(), \n",
    "    axis.line = ggplot2::element_blank(), panel.grid.minor = ggplot2::element_blank(), \n",
    "    panel.grid.major.y = ggplot2::element_line(color = \"#cbcbcb\"), \n",
    "    panel.grid.major.x = ggplot2::element_blank(), panel.background = ggplot2::element_blank(), \n",
    "    strip.background = ggplot2::element_rect(fill = \"white\"), \n",
    "    strip.text = ggplot2::element_text(size = 22, hjust = 0))\n",
    "    }\n",
    "    <environment: namespace:bbplot>\n",
    "```"
   ]
  },
  {
   "cell_type": "code",
   "execution_count": null,
   "metadata": {},
   "outputs": [],
   "source": [
    "font = \"Helvetica\"\n",
    "theme(plot_title=element_text(family=font,\n",
    "                                      size=28, face=\"bold\", color=\"#222222\"),\n",
    "              #       plot_subtitle=element_text(family=font,\n",
    "              #                                  size=22, plot_margin=(9, 0, 9, 0)), plot_caption=element_blank(),\n",
    "              legend_position=\"top\", legend_title_align=0, legend_background=element_blank(),\n",
    "              legend_title=element_blank(), legend_key=element_blank(),\n",
    "              legend_text=element_text(family=font, size=18,\n",
    "                                       color=\"#222222\"), axis_title=element_blank(),\n",
    "\n",
    "              axis_text=element_text(family=font, size=18,\n",
    "                                     color=\"#222222\"),\n",
    "              axis_text_x=element_text(margin={'t': 5, 'b': 10}),\n",
    "              axis_ticks=element_blank(),\n",
    "              axis_line=element_blank(), panel_grid_minor=element_blank(),\n",
    "              panel_grid_major_y=element_line(color=\"#cbcbcb\"),\n",
    "              panel_grid_major_x=element_blank(), panel_background=element_blank(),\n",
    "              strip_background=element_rect(fill=\"white\"),\n",
    "              strip_text=element_text(size=22, hjust=0)\n",
    "              )"
   ]
  },
  {
   "cell_type": "markdown",
   "metadata": {},
   "source": [
    "The `finalise_plot()` function does more than just save out your chart, it also left-aligns the title and subtitle as is standard for BBC graphics, adds a footer with the logo on the right side and lets you input source text on the left side."
   ]
  },
  {
   "cell_type": "code",
   "execution_count": null,
   "metadata": {},
   "outputs": [],
   "source": [
    "# altair\n",
    "line = (alt.Chart(line_df).mark_line().encode(\n",
    "x='year',\n",
    "y='lifeExp')\n",
    ".properties(title={'text': 'Living Longer',\n",
    "                   'subtitle': 'Life expectancy in China 1952-2007'})\n",
    ") \n",
    "\n",
    "# hline\n",
    "overlay = overlay = pd.DataFrame({'lifeExp': [0]})\n",
    "hline = alt.Chart(overlay).mark_rule(color='#333333', strokeWidth=3).encode(y='lifeExp:Q')\n",
    "\n",
    "line + hline"
   ]
  },
  {
   "cell_type": "markdown",
   "metadata": {},
   "source": [
    "# Make a multiple line chart"
   ]
  },
  {
   "cell_type": "code",
   "execution_count": null,
   "metadata": {},
   "outputs": [],
   "source": [
    "# hide\n",
    "# Prepare data\n",
    "multiline_df = gapminder.query(\n",
    "    'country == \"China\" | country ==\"United States\" ')"
   ]
  },
  {
   "cell_type": "markdown",
   "metadata": {},
   "source": [
    "```r\n",
    "# ggplot\n",
    "#Prepare data\n",
    "multiple_line_df <- gapminder %>%\n",
    "  filter(country == \"China\" | country == \"United States\") \n",
    "\n",
    "#Make plot\n",
    "multiple_line <- ggplot(multiple_line_df, aes(x = year, y = lifeExp, colour = country)) +\n",
    "  geom_line(size = 1) +\n",
    "  geom_hline(yintercept = 0, size = 1, colour=\"#333333\") +\n",
    "  scale_colour_manual(values = c(\"#FAAB18\", \"#1380A1\")) +\n",
    "  bbc_style() +\n",
    "  labs(title=\"Living longer\",\n",
    "       subtitle = \"Life expectancy in China and the US\")\n",
    "```"
   ]
  },
  {
   "cell_type": "code",
   "execution_count": null,
   "metadata": {},
   "outputs": [],
   "source": [
    "# Make plot\n",
    "multiline = (\n",
    "    ggplot(multiline_df, aes(x='year', y='lifeExp', colour='country')) +\n",
    "    geom_line(colour=\"#1380A1\", size=1) +\n",
    "    geom_hline(yintercept=0, size=1, color=\"#333333\") +\n",
    "    scale_colour_manual(values=[\"#FAAB18\", \"#1380A1\"]) +\n",
    "      bbc_style() +\n",
    "    labs(title=\"Living longer\",\n",
    "         subtitle=\"Life expectancy in China 1952-2007\"))\n",
    "multiline"
   ]
  },
  {
   "cell_type": "code",
   "execution_count": null,
   "metadata": {},
   "outputs": [],
   "source": [
    "multiline_altair = (alt.Chart(multiline_df).mark_line().encode(\n",
    "x='year',\n",
    "y='lifeExp',\n",
    "color='country')\n",
    ".properties(title={'text': 'Living Longer',\n",
    "                   'subtitle': 'Life expectancy in China 1952-2007'})\n",
    ") \n",
    "\n",
    "# hline\n",
    "overlay = overlay = pd.DataFrame({'lifeExp': [0]})\n",
    "hline = alt.Chart(overlay).mark_rule(color='#333333', strokeWidth=3).encode(y='lifeExp:Q')\n",
    "\n",
    "multiline_altair + hline"
   ]
  },
  {
   "cell_type": "markdown",
   "metadata": {},
   "source": [
    "\n",
    "# Make a bar chart"
   ]
  },
  {
   "cell_type": "markdown",
   "metadata": {},
   "source": [
    "```r\n",
    "# ggplot\n",
    "#Prepare data\n",
    "bar_df <- gapminder %>%\n",
    "  filter(year == 2007 & continent == \"Africa\") %>%\n",
    "  arrange(desc(lifeExp)) %>%\n",
    "  head(5)\n",
    "\n",
    "#Make plot\n",
    "bars <- ggplot(bar_df, aes(x = country, y = lifeExp)) +\n",
    "  geom_bar(stat=\"identity\", \n",
    "           position=\"identity\", \n",
    "           fill=\"#1380A1\") +\n",
    "  geom_hline(yintercept = 0, size = 1, colour=\"#333333\") +\n",
    "  bbc_style() +\n",
    "  labs(title=\"Reunion is highest\",\n",
    "       subtitle = \"Highest African life expectancy, 2007\")\n",
    "```"
   ]
  },
  {
   "cell_type": "code",
   "execution_count": null,
   "metadata": {},
   "outputs": [],
   "source": [
    "## hide\n",
    "bar_df = gapminder.query(' year == 2007 & continent == \"Africa\" ').nlargest(5, 'lifeExp')"
   ]
  },
  {
   "cell_type": "code",
   "execution_count": null,
   "metadata": {},
   "outputs": [],
   "source": [
    "bars_ggplot = (ggplot(bar_df, aes(x='country', y='lifeExp')) +\n",
    "  geom_bar(stat=\"identity\",\n",
    "           position=\"identity\",\n",
    "           fill=\"#1380A1\") +\n",
    "  geom_hline(yintercept=0, size=1, colour=\"#333333\") +\n",
    "#   bbc_style() +\n",
    "  labs(title=\"Reunion is highest\",\n",
    "       subtitle=\"Highest African life expectancy, 2007\"))\n",
    "\n",
    "bars_ggplot"
   ]
  },
  {
   "cell_type": "code",
   "execution_count": null,
   "metadata": {},
   "outputs": [],
   "source": [
    "bars_altair = (alt.Chart(bar_df).mark_bar().encode(\n",
    "x='country',\n",
    "y='lifeExp',\n",
    "# color='country'\n",
    ")\n",
    ".properties(title={'text': 'Reunion is highest',\n",
    "                   'subtitle': 'Highest African life expectancy, 2007'})\n",
    ") \n",
    "\n",
    "bars_altair"
   ]
  },
  {
   "cell_type": "markdown",
   "metadata": {},
   "source": [
    "# Make a stacked bar chart"
   ]
  },
  {
   "cell_type": "code",
   "execution_count": null,
   "metadata": {},
   "outputs": [],
   "source": [
    "## collapse-hide\n",
    "stacked_bar_df = (\n",
    "    gapminder.query(' year == 2007')\n",
    "    .assign(\n",
    "        lifeExpGrouped=lambda x: pd.cut(\n",
    "            x['lifeExp'],\n",
    "            bins=[0, 50, 65, 80, 90],\n",
    "            labels=[\"under 50\", \"50-65\", \"65-80\", \"80+\"]))\n",
    "    .groupby(\n",
    "        ['continent', 'lifeExpGrouped'], as_index=True)\n",
    "    .agg({'pop': 'sum'})\n",
    "    .rename(columns={'pop': 'continentPop'})\n",
    "    .reset_index()\n",
    ")\n",
    "stacked_bar_df['lifeExpGrouped'] = pd.Categorical(stacked_bar_df['lifeExpGrouped'], ordered=True)\n",
    "\n",
    "stacked_bar_df.head(6)"
   ]
  },
  {
   "cell_type": "markdown",
   "metadata": {},
   "source": [
    "```r\n",
    "# ggplot\n",
    "#prepare data\n",
    "stacked_df <- gapminder %>% \n",
    "  filter(year == 2007) %>%\n",
    "  mutate(lifeExpGrouped = cut(lifeExp, \n",
    "                    breaks = c(0, 50, 65, 80, 90),\n",
    "                    labels = c(\"Under 50\", \"50-65\", \"65-80\", \"80+\"))) %>%\n",
    "  group_by(continent, lifeExpGrouped) %>%\n",
    "  summarise(continentPop = sum(as.numeric(pop)))\n",
    "\n",
    "#set order of stacks by changing factor levels\n",
    "stacked_df$lifeExpGrouped = factor(stacked_df$lifeExpGrouped, levels = rev(levels(stacked_df$lifeExpGrouped)))\n",
    "\n",
    "#create plot\n",
    "stacked_bars <- ggplot(data = stacked_df, \n",
    "                       aes(x = continent,\n",
    "                           y = continentPop,\n",
    "                           fill = lifeExpGrouped)) +\n",
    "  geom_bar(stat = \"identity\", \n",
    "           position = \"fill\") +\n",
    "  bbc_style() +\n",
    "  scale_y_continuous(labels = scales::percent) +\n",
    "  scale_fill_viridis_d(direction = -1) +\n",
    "  geom_hline(yintercept = 0, size = 1, colour = \"#333333\") +\n",
    "  labs(title = \"How life expectancy varies\",\n",
    "       subtitle = \"% of population by life expectancy band, 2007\") +\n",
    "  theme(legend.position = \"top\", \n",
    "        legend.justification = \"left\") +\n",
    "  guides(fill = guide_legend(reverse = TRUE))\n",
    "```"
   ]
  },
  {
   "cell_type": "code",
   "execution_count": null,
   "metadata": {},
   "outputs": [],
   "source": [
    "# altair\n",
    "stacked_bar_altair = (\n",
    "    alt.Chart(stacked_bar_df)\n",
    "    .mark_bar()\n",
    "    .encode(x='continent:N',\n",
    "            y=alt.Y('continentPop', stack='normalize',\n",
    "                    axis=alt.Axis(format='%'),\n",
    "                   sort=['80+', '65-80', '50-65', 'under 50']),\n",
    "#                 order=alt.Order(\n",
    "#       # Sort the segments of the bars by this field\n",
    "#       'lifeExpGrouped',\n",
    "#       sort='descending'),\n",
    "            fill=alt.Fill('lifeExpGrouped:O',\n",
    "                          scale=alt.Scale(scheme='viridis',\n",
    "                                          reverse=True,\n",
    "                                          domain=['under 50','50-65', '65-80', '80+', ],\n",
    "                                         range=['rgb(253, 231, 37)',\n",
    "                                                'rgb(53, 183, 121)',\n",
    " 'rgb(49, 104, 142)',\n",
    " \n",
    " 'rgb(68, 1, 84)']),\n",
    "                          legend=alt.Legend(title=\"Life Expectancy\")\n",
    "                         \n",
    "                         )\n",
    "           )\n",
    "    .properties(title={'text': 'How life expectancy varies',\n",
    "                       'subtitle': '% of population by life expectancy band, 2007'},\n",
    "                )\n",
    ")\n",
    "\n",
    "overay = overlay = pd.DataFrame({'continentPop': [0]})\n",
    "hline = alt.Chart(overlay).mark_rule(\n",
    "    color='#333333', strokeWidth=2).encode(y='continentPop:Q')\n",
    "\n",
    "\n",
    "(stacked_bar_altair + hline).configure_legend(orient ='right')"
   ]
  },
  {
   "cell_type": "markdown",
   "metadata": {},
   "source": [
    "# Make a grouped bar chart"
   ]
  },
  {
   "cell_type": "code",
   "execution_count": null,
   "metadata": {},
   "outputs": [],
   "source": [
    "# hide\n",
    "grouped_bar_df = (\n",
    "    gapminder[[\n",
    "        'country', 'year', 'lifeExp'\n",
    "    ]].query(' year == 1967 | year == 2007 ')\n",
    "    .pivot_table(\n",
    "        index=['country'], columns='year',\n",
    "        values='lifeExp')\n",
    "    .assign(gap=lambda x: x[2007] - x[1967])\n",
    "    .nlargest(5, 'gap')\n",
    "    .reset_index()\n",
    "    .melt(value_vars=[1967, 2007],\n",
    "          id_vars=['country', 'gap'],\n",
    "      value_name='lifeExp')\n",
    ")\n",
    "\n",
    "grouped_bar_df"
   ]
  },
  {
   "cell_type": "markdown",
   "metadata": {},
   "source": [
    "```r\n",
    "# ggplot\n",
    "#Prepare data\n",
    "grouped_bar_df <- gapminder %>%\n",
    "  filter(year == 1967 | year == 2007) %>%\n",
    "  select(country, year, lifeExp) %>%\n",
    "  spread(year, lifeExp) %>%\n",
    "  mutate(gap = `2007` - `1967`) %>%\n",
    "  arrange(desc(gap)) %>%\n",
    "  head(5) %>%\n",
    "  gather(key = year, \n",
    "         value = lifeExp,\n",
    "         -country,\n",
    "         -gap) \n",
    "  \n",
    "#Make plot\n",
    "grouped_bars <- ggplot(grouped_bar_df, \n",
    "                       aes(x = country, \n",
    "                           y = lifeExp, \n",
    "                           fill = as.factor(year))) +\n",
    "  geom_bar(stat=\"identity\", position=\"dodge\") +\n",
    "  geom_hline(yintercept = 0, size = 1, colour=\"#333333\") +\n",
    "  bbc_style() +\n",
    "  scale_fill_manual(values = c(\"#1380A1\", \"#FAAB18\")) +\n",
    "  labs(title=\"We're living longer\",\n",
    "       subtitle = \"Biggest life expectancy rise, 1967-2007\")\n",
    "```"
   ]
  },
  {
   "cell_type": "code",
   "execution_count": null,
   "metadata": {},
   "outputs": [],
   "source": [
    "# plotnine\n",
    "grouped_bars_ggplot = (ggplot(grouped_bar_df,\n",
    "                       aes(x='country',\n",
    "                           y='lifeExp',\n",
    "                           fill='year')) +\n",
    "                geom_bar(stat=\"identity\", position=\"dodge\") +\n",
    "                geom_hline(yintercept=0, size=1, colour=\"#333333\") +\n",
    "#                 bbc_style() +\n",
    "                scale_fill_manual(values=(\"#1380A1\", \"#FAAB18\")) +\n",
    "                labs(title=\"We're living longer\",\n",
    "                     subtitle=\"Biggest life expectancy rise, 1967-2007\"))\n",
    "\n",
    "grouped_bars_ggplot"
   ]
  },
  {
   "cell_type": "code",
   "execution_count": null,
   "metadata": {},
   "outputs": [],
   "source": [
    "# altair\n",
    "grouped_bars_altair = (\n",
    "    alt.Chart(grouped_bar_df)\n",
    "    .mark_bar(size=42)\n",
    "    .encode(x='year:N',\n",
    "            y='lifeExp',\n",
    "            color=alt.Color('year:N', scale=alt.Scale(\n",
    "                range=[\"#1380A1\", \"#FAAB18\"])),\n",
    "            column='country:N')\n",
    "    .properties(title={'text': \"We're living longer\",\n",
    "                       'subtitle': 'Biggest life expectancy rise, 1967-2007'},\n",
    "                width=100\n",
    "                ).configure_facet(\n",
    "        spacing=0.5,\n",
    "#         strokeWidth=1.0,\n",
    "    ).configure_scale(\n",
    "        bandPaddingInner=0.4,\n",
    "        bandPaddingOuter=0.4\n",
    "    ).configure_header(labelOrient='bottom',\n",
    "                       labelPadding=6,\n",
    "                       titleOrient='bottom').configure_axisX(\n",
    "        ticks=False,\n",
    "        labels=False,\n",
    "        title=None,\n",
    "    ).configure_view(\n",
    "        stroke=None\n",
    "    )\n",
    ")\n",
    "\n",
    "grouped_bars_altair"
   ]
  },
  {
   "cell_type": "code",
   "execution_count": null,
   "metadata": {},
   "outputs": [],
   "source": []
  }
 ],
 "metadata": {
  "kernelspec": {
   "display_name": "Python 3",
   "language": "python",
   "name": "python3"
  }
 },
 "nbformat": 4,
 "nbformat_minor": 4
}
